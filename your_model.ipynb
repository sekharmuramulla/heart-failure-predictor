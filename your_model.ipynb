from google.colab import files
uploaded = files.upload()


import pandas as pd
from sklearn.model_selection import train_test_split
from sklearn.ensemble import RandomForestClassifier
from sklearn.metrics import accuracy_score
import joblib

# Load dataset
df = pd.read_csv("heart_failure_clinical_records_dataset (1).csv")

# Features and target
X = df.drop("DEATH_EVENT", axis=1)
y = df["DEATH_EVENT"]

# Split data
X_train, X_test, y_train, y_test = train_test_split(X, y, test_size=0.2, random_state=42)

# Train model
model = RandomForestClassifier()
model.fit(X_train, y_train)

# Evaluate
y_pred = model.predict(X_test)
acc = accuracy_score(y_test, y_pred)
print(f"Accuracy: {acc * 100:.2f}%")


joblib.dump(model, "model.pkl")
files.download("model.pkl")


code = """
from flask import Flask, render_template, request
import joblib
import numpy as np

app = Flask(__name__)
model = joblib.load("model.pkl")

@app.route("/")
def home():
    return render_template("index.html")

@app.route("/predict", methods=["POST"])
def predict():
    try:
        input_data = [float(request.form[key]) for key in request.form]
        prediction = model.predict([np.array(input_data)])
        result = "Patient is at risk" if prediction[0] == 1 else "Patient is not at risk"
        return render_template("index.html", prediction_text=result)
    except Exception as e:
        return str(e)

if __name__ == "__main__":
    app.run(debug=True)
"""
with open("app.py", "w") as f:
    f.write(code)

files.download("app.py")


import os
os.makedirs("templates", exist_ok=True)

html_code = """
<!DOCTYPE html>
<html>
<head>
    <title>Heart Failure Prediction</title>
    <style>
        body { font-family: Arial; background: #f0f0f0; padding: 20px; }
        form { background: #fff; padding: 20px; border-radius: 10px; width: 300px; margin: auto; }
        input, button { margin-top: 10px; width: 100%; padding: 10px; }
        h2 { text-align: center; }
    </style>
</head>
<body>
    <form method="POST" action="/predict">
        <h2>Heart Failure Predictor</h2>
        {% for feature in ["age", "anaemia", "creatinine_phosphokinase", "diabetes", "ejection_fraction",
                          "high_blood_pressure", "platelets", "serum_creatinine", "serum_sodium", "sex", 
                          "smoking", "time"] %}
            <input name="{{ feature }}" type="text" placeholder="{{ feature.replace('_', ' ').title() }}" required>
        {% endfor %}
        <button type="submit">Predict</button>
        {% if prediction_text %}
        <p><strong>{{ prediction_text }}</strong></p>
        {% endif %}
    </form>
</body>
</html>
"""

with open("templates/index.html", "w") as f:
    f.write(html_code)

files.download("templates/index.html")


pip install flask joblib
python app.py
